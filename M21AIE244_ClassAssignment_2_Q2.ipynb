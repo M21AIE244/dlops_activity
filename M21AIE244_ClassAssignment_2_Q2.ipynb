{
  "nbformat": 4,
  "nbformat_minor": 0,
  "metadata": {
    "colab": {
      "provenance": []
    },
    "kernelspec": {
      "name": "python3",
      "display_name": "Python 3"
    },
    "language_info": {
      "name": "python"
    }
  },
  "cells": [
    {
      "cell_type": "code",
      "execution_count": 8,
      "metadata": {
        "id": "QFl4Wu6P-owh"
      },
      "outputs": [],
      "source": [
        "import torch\n",
        "from torchvision import datasets, transforms\n",
        "from torch.utils.data import DataLoader"
      ]
    },
    {
      "cell_type": "code",
      "source": [
        "def select_dataset_based_on_roll_number(roll_num):\n",
        "    last_digit = 22194 % 3\n",
        "    transform = transforms.ToTensor()\n",
        "    if last_digit == 0:\n",
        "        dataset_name = 'STL10'\n",
        "        train_dataset = datasets.STL10(root='./data', split='train', download=True, transform=transform)\n",
        "        test_dataset = datasets.STL10(root='./data', split='test', download=True, transform=transform)\n",
        "    elif last_digit == 1:\n",
        "        dataset_name = 'SVHN'\n",
        "        train_dataset = datasets.SVHN(root='./data', split='train', download=True, transform=transform)\n",
        "        test_dataset = datasets.SVHN(root='./data', split='test', download=True, transform=transform)\n",
        "    else:\n",
        "        dataset_name = 'FashionMNIST'\n",
        "        train_dataset = datasets.FashionMNIST(root='./data', train=True, download=True, transform=transform)\n",
        "        test_dataset = datasets.FashionMNIST(root='./data', train=False, download=True, transform=transform)\n",
        "    return dataset_name, train_dataset, test_dataset"
      ],
      "metadata": {
        "id": "Jm0ncWIGGuZk"
      },
      "execution_count": 9,
      "outputs": []
    },
    {
      "cell_type": "code",
      "source": [
        "def initialize_data_loaders(train_dataset, test_dataset, batch_size=64):\n",
        "    train_loader = DataLoader(train_dataset, batch_size=batch_size, shuffle=True)\n",
        "    test_loader = DataLoader(test_dataset, batch_size=batch_size, shuffle=False)\n",
        "    return train_loader, test_loader"
      ],
      "metadata": {
        "id": "L1TWfcxcHMef"
      },
      "execution_count": 10,
      "outputs": []
    },
    {
      "cell_type": "code",
      "source": [
        "# Main Execution Flow\n",
        "if __name__ == \"__main__\":\n",
        "    roll_number = 221924\n",
        "    dataset_name, train_data, test_data = select_dataset_based_on_roll_number(roll_number)\n",
        "    train_loader, test_loader = initialize_data_loaders(train_data, test_data)"
      ],
      "metadata": {
        "colab": {
          "base_uri": "https://localhost:8080/"
        },
        "id": "BsCZKwG6HP86",
        "outputId": "32393e41-0007-4e0e-fa10-ffad653e8c51"
      },
      "execution_count": 11,
      "outputs": [
        {
          "output_type": "stream",
          "name": "stdout",
          "text": [
            "Downloading http://ai.stanford.edu/~acoates/stl10/stl10_binary.tar.gz to ./data/stl10_binary.tar.gz\n"
          ]
        },
        {
          "output_type": "stream",
          "name": "stderr",
          "text": [
            "100%|██████████| 2640397119/2640397119 [03:22<00:00, 13018698.68it/s]\n"
          ]
        },
        {
          "output_type": "stream",
          "name": "stdout",
          "text": [
            "Extracting ./data/stl10_binary.tar.gz to ./data\n",
            "Files already downloaded and verified\n"
          ]
        }
      ]
    },
    {
      "cell_type": "code",
      "source": [
        "# Model Initialization\n",
        "classification_model = initialize_model()\n",
        "loss_function = nn.CrossEntropyLoss()\n"
      ],
      "metadata": {
        "colab": {
          "base_uri": "https://localhost:8080/"
        },
        "id": "pEoYR8mNHk59",
        "outputId": "fcb83750-c474-4162-ce86-953919184706"
      },
      "execution_count": 13,
      "outputs": [
        {
          "output_type": "stream",
          "name": "stderr",
          "text": [
            "/usr/local/lib/python3.10/dist-packages/torchvision/models/_utils.py:208: UserWarning: The parameter 'pretrained' is deprecated since 0.13 and may be removed in the future, please use 'weights' instead.\n",
            "  warnings.warn(\n",
            "/usr/local/lib/python3.10/dist-packages/torchvision/models/_utils.py:223: UserWarning: Arguments other than a weight enum or `None` for 'weights' are deprecated since 0.13 and may be removed in the future. The current behavior is equivalent to passing `weights=ResNet101_Weights.IMAGENET1K_V1`. You can also use `weights=ResNet101_Weights.DEFAULT` to get the most up-to-date weights.\n",
            "  warnings.warn(msg)\n",
            "Downloading: \"https://download.pytorch.org/models/resnet101-63fe2227.pth\" to /root/.cache/torch/hub/checkpoints/resnet101-63fe2227.pth\n",
            "100%|██████████| 171M/171M [00:01<00:00, 114MB/s]\n"
          ]
        }
      ]
    },
    {
      "cell_type": "code",
      "source": [
        "def setup_optimizers(model):\n",
        "    # Optimizer Selection\n",
        "    optimizer_options = {\n",
        "        'Adam': optim.Adam(model.parameters(), lr=0.001),\n",
        "        'Adagrad': optim.Adagrad(model.parameters(), lr=0.001),\n",
        "        'RMSprop': optim.RMSprop(model.parameters(), lr=0.001),\n",
        "    }\n",
        "    return optimizer_options\n",
        "\n"
      ],
      "metadata": {
        "id": "U_5wXoBuHnkU"
      },
      "execution_count": 16,
      "outputs": []
    },
    {
      "cell_type": "code",
      "source": [
        "# Execute Training for Each Optimizer\n",
        "for optimizer_name, optimizer in optimizer_options.items():\n",
        "    print(f\"\\nTraining with {optimizer_name} optimizer:\")\n",
        "    execute_training(optimizer, classification_model, train_loader, loss_function)\n"
      ],
      "metadata": {
        "colab": {
          "base_uri": "https://localhost:8080/"
        },
        "id": "eyOz5yMUHr9O",
        "outputId": "d5442566-d1bc-44f0-bb02-f882910f90b6"
      },
      "execution_count": null,
      "outputs": [
        {
          "output_type": "stream",
          "name": "stdout",
          "text": [
            "\n",
            "Training with Adam optimizer:\n",
            "Epoch: 1, Loss: 1.2159, Accuracy: 58.66%\n"
          ]
        }
      ]
    },
    {
      "cell_type": "code",
      "source": [],
      "metadata": {
        "id": "R_uqNW46HvNA"
      },
      "execution_count": null,
      "outputs": []
    }
  ]
}