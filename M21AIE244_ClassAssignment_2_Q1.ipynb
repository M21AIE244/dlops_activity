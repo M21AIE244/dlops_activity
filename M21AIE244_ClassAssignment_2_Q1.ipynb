{
  "cells": [
    {
      "cell_type": "code",
      "execution_count": null,
      "metadata": {
        "id": "QFl4Wu6P-owh"
      },
      "outputs": [],
      "source": [
        "import torch\n",
        "from torch.utils.data import DataLoader, TensorDataset\n",
        "from sklearn.datasets import load_digits\n",
        "from sklearn.model_selection import train_test_split\n",
        "from sklearn.preprocessing import StandardScaler\n",
        "import numpy as np"
      ]
    },
    {
      "cell_type": "code",
      "execution_count": null,
      "metadata": {
        "id": "k0Jdm3v0_Z9Y"
      },
      "outputs": [],
      "source": [
        "usps_data = load_digits()\n"
      ]
    },
    {
      "cell_type": "code",
      "execution_count": null,
      "metadata": {
        "id": "o3_j_9sE_f-4"
      },
      "outputs": [],
      "source": [
        "# labels and features\n",
        "X = usps_data.data\n",
        "y = usps_data.target"
      ]
    },
    {
      "cell_type": "code",
      "execution_count": null,
      "metadata": {
        "colab": {
          "base_uri": "https://localhost:8080/"
        },
        "id": "PaX4T84iJ47s",
        "outputId": "44fd5957-e35f-4787-fa2b-8b6aa6913fcd"
      },
      "outputs": [
        {
          "data": {
            "text/plain": [
              "((1797, 64), (1797,))"
            ]
          },
          "execution_count": 82,
          "metadata": {},
          "output_type": "execute_result"
        }
      ],
      "source": [
        "X.shape, y.shape"
      ]
    },
    {
      "cell_type": "code",
      "execution_count": null,
      "metadata": {
        "id": "g80mPEpW_v0J"
      },
      "outputs": [],
      "source": [
        "#  train and test sets\n",
        "X_train, X_test, y_train, y_test = train_test_split(X, y, test_size=0.2, random_state=42)\n",
        "\n",
        "scaler = StandardScaler()\n",
        "X_train = scaler.fit_transform(X_train)\n",
        "X_test = scaler.transform(X_test)"
      ]
    },
    {
      "cell_type": "code",
      "execution_count": null,
      "metadata": {
        "id": "vofHvw7VAkyv"
      },
      "outputs": [],
      "source": [
        "# PyTorch tensors\n",
        "X_train_tensor = torch.tensor(X_train, dtype=torch.float32)\n",
        "y_train_tensor = torch.tensor(y_train, dtype=torch.long)\n",
        "X_test_tensor = torch.tensor(X_test, dtype=torch.float32)\n",
        "y_test_tensor = torch.tensor(y_test, dtype=torch.long)\n",
        "\n",
        "train_dataset = TensorDataset(X_train_tensor, y_train_tensor)\n",
        "test_dataset = TensorDataset(X_test_tensor, y_test_tensor)\n",
        "\n",
        "batch_size = 64\n",
        "train_loader = DataLoader(train_dataset, batch_size=batch_size, shuffle=True)\n",
        "test_loader = DataLoader(test_dataset, batch_size=batch_size, shuffle=False)"
      ]
    },
    {
      "cell_type": "code",
      "execution_count": null,
      "metadata": {
        "id": "3oqOr6CECiUA"
      },
      "outputs": [],
      "source": [
        "import torch.nn as nn\n",
        "import torch.optim as optim\n",
        "\n",
        "class MLP(nn.Module):\n",
        "    def __init__(self, input_size, hidden_size1, hidden_size2, num_classes):\n",
        "        super(MLP, self).__init__()\n",
        "        self.fc1 = nn.Linear(input_size, hidden_size1)\n",
        "        self.fc2 = nn.Linear(hidden_size1, hidden_size2)\n",
        "        self.fc3 = nn.Linear(hidden_size2, num_classes)\n",
        "        self.relu = nn.ReLU()\n",
        "\n",
        "    def forward(self, x):\n",
        "        x = self.relu(self.fc1(x))\n",
        "        x = self.relu(self.fc2(x))\n",
        "        x = self.fc3(x)\n",
        "        return x\n",
        "\n",
        "input_size = X_train.shape[1]\n",
        "hidden_size1 = 100\n",
        "hidden_size2 = 50\n",
        "num_classes = 10\n",
        "\n",
        "mlp_model = MLP(input_size, hidden_size1, hidden_size2, num_classes)\n",
        "\n",
        "# loss and optimizer\n",
        "criterion = nn.CrossEntropyLoss()\n",
        "optimizer = optim.Adam(mlp_model.parameters(), lr=0.001)\n",
        "\n",
        "\n"
      ]
    },
    {
      "cell_type": "code",
      "execution_count": null,
      "metadata": {
        "colab": {
          "base_uri": "https://localhost:8080/"
        },
        "id": "jWaVS5UvHBCn",
        "outputId": "4f5f93da-f97a-4ecc-bd7a-d197acf35f10"
      },
      "outputs": [
        {
          "name": "stdout",
          "output_type": "stream",
          "text": [
            "Epoch [1/50], Loss: 2.1221\n",
            "Epoch [2/50], Loss: 1.4791\n",
            "Epoch [3/50], Loss: 0.7586\n",
            "Epoch [4/50], Loss: 0.3966\n",
            "Epoch [5/50], Loss: 0.2499\n",
            "Epoch [6/50], Loss: 0.1793\n",
            "Epoch [7/50], Loss: 0.1375\n",
            "Epoch [8/50], Loss: 0.1110\n",
            "Epoch [9/50], Loss: 0.0916\n",
            "Epoch [10/50], Loss: 0.0750\n",
            "Epoch [11/50], Loss: 0.0615\n",
            "Epoch [12/50], Loss: 0.0531\n",
            "Epoch [13/50], Loss: 0.0451\n",
            "Epoch [14/50], Loss: 0.0376\n",
            "Epoch [15/50], Loss: 0.0325\n",
            "Epoch [16/50], Loss: 0.0280\n",
            "Epoch [17/50], Loss: 0.0243\n",
            "Epoch [18/50], Loss: 0.0211\n",
            "Epoch [19/50], Loss: 0.0181\n",
            "Epoch [20/50], Loss: 0.0159\n",
            "Epoch [21/50], Loss: 0.0139\n",
            "Epoch [22/50], Loss: 0.0125\n",
            "Epoch [23/50], Loss: 0.0110\n",
            "Epoch [24/50], Loss: 0.0096\n",
            "Epoch [25/50], Loss: 0.0086\n",
            "Epoch [26/50], Loss: 0.0077\n",
            "Epoch [27/50], Loss: 0.0072\n",
            "Epoch [28/50], Loss: 0.0064\n",
            "Epoch [29/50], Loss: 0.0057\n",
            "Epoch [30/50], Loss: 0.0053\n",
            "Epoch [31/50], Loss: 0.0048\n",
            "Epoch [32/50], Loss: 0.0044\n",
            "Epoch [33/50], Loss: 0.0041\n",
            "Epoch [34/50], Loss: 0.0037\n",
            "Epoch [35/50], Loss: 0.0035\n",
            "Epoch [36/50], Loss: 0.0032\n",
            "Epoch [37/50], Loss: 0.0030\n",
            "Epoch [38/50], Loss: 0.0028\n",
            "Epoch [39/50], Loss: 0.0026\n",
            "Epoch [40/50], Loss: 0.0024\n",
            "Epoch [41/50], Loss: 0.0023\n",
            "Epoch [42/50], Loss: 0.0022\n",
            "Epoch [43/50], Loss: 0.0020\n",
            "Epoch [44/50], Loss: 0.0019\n",
            "Epoch [45/50], Loss: 0.0018\n",
            "Epoch [46/50], Loss: 0.0017\n",
            "Epoch [47/50], Loss: 0.0016\n",
            "Epoch [48/50], Loss: 0.0015\n",
            "Epoch [49/50], Loss: 0.0015\n",
            "Epoch [50/50], Loss: 0.0014\n"
          ]
        }
      ],
      "source": [
        "# MLP model\n",
        "num_epochs = 50\n",
        "train_losses = []  # List to store the training losses\n",
        "\n",
        "for epoch in range(num_epochs):\n",
        "    epoch_loss = 0.0\n",
        "    for inputs, labels in train_loader:\n",
        "        optimizer.zero_grad()\n",
        "        outputs = mlp_model(inputs)\n",
        "        loss = criterion(outputs, labels)\n",
        "        loss.backward()\n",
        "        optimizer.step()\n",
        "        epoch_loss += loss.item() * inputs.size(0)  # Accumulate the loss for the epoch\n",
        "    epoch_loss /= len(train_loader.dataset)  # Calculate the average epoch loss\n",
        "    train_losses.append(epoch_loss)\n",
        "    print(f'Epoch [{epoch+1}/{num_epochs}], Loss: {epoch_loss:.4f}')"
      ]
    },
    {
      "cell_type": "code",
      "execution_count": null,
      "metadata": {
        "colab": {
          "base_uri": "https://localhost:8080/",
          "height": 472
        },
        "id": "J-85Qf_QGMm7",
        "outputId": "b3d1dfb0-b087-41f7-d21d-993d67cb4de7"
      },
      "outputs": [
        {
          "data": {
            "image/png": "[encoded data removed]",
            "text/plain": [
              "<Figure size 640x480 with 1 Axes>"
            ]
          },
          "metadata": {},
          "output_type": "display_data"
        }
      ],
      "source": [
        "import matplotlib.pyplot as plt\n",
        "\n",
        "plt.plot(range(1, num_epochs + 1), train_losses, label='Training Loss')\n",
        "plt.xlabel('Epoch')\n",
        "plt.ylabel('Loss')\n",
        "plt.title('Training Loss over Epochs')\n",
        "plt.legend()\n",
        "plt.show()"
      ]
    },
    {
      "cell_type": "code",
      "execution_count": null,
      "metadata": {
        "colab": {
          "base_uri": "https://localhost:8080/"
        },
        "id": "EseHjQc7E-NT",
        "outputId": "01a8c1a9-a579-434f-b0a5-38596bfb940c"
      },
      "outputs": [
        {
          "name": "stdout",
          "output_type": "stream",
          "text": [
            "MLP Accuracy: 0.9777777777777777\n",
            "MLP Precision: 0.9780868902439025\n",
            "MLP Recall: 0.9777777777777777\n",
            "MLP Confusion Matrix:\n",
            "[[33  0  0  0  0  0  0  0  0  0]\n",
            " [ 0 28  0  0  0  0  0  0  0  0]\n",
            " [ 0  0 33  0  0  0  0  0  0  0]\n",
            " [ 0  0  0 33  0  1  0  0  0  0]\n",
            " [ 0  0  0  0 46  0  0  0  0  0]\n",
            " [ 0  0  0  0  0 45  1  0  0  1]\n",
            " [ 0  0  0  0  0  1 34  0  0  0]\n",
            " [ 0  0  0  0  0  0  0 33  0  1]\n",
            " [ 0  1  0  0  0  1  0  0 28  0]\n",
            " [ 0  0  0  0  0  0  0  0  1 39]]\n"
          ]
        }
      ],
      "source": [
        "import torch\n",
        "from sklearn.metrics import confusion_matrix, precision_score, recall_score\n",
        "\n",
        "def evaluate_model(model, test_loader):\n",
        "    model.eval()\n",
        "    correct = 0\n",
        "    total = 0\n",
        "    all_predicted = []\n",
        "    all_labels = []\n",
        "\n",
        "    with torch.no_grad():\n",
        "        for inputs, labels in test_loader:\n",
        "            outputs = model(inputs)\n",
        "            _, predicted = torch.max(outputs.data, 1)\n",
        "            total += labels.size(0)\n",
        "            correct += (predicted == labels).sum().item()\n",
        "            all_predicted.extend(predicted.tolist())\n",
        "            all_labels.extend(labels.tolist())\n",
        "\n",
        "    accuracy = correct / total\n",
        "    precision = precision_score(all_labels, all_predicted, average='weighted')\n",
        "    recall = recall_score(all_labels, all_predicted, average='weighted')\n",
        "    conf_matrix = confusion_matrix(all_labels, all_predicted)\n",
        "\n",
        "    return accuracy, precision, recall, conf_matrix\n",
        "\n",
        "# MLP model\n",
        "mlp_accuracy, mlp_precision, mlp_recall, mlp_conf_matrix = evaluate_model(mlp_model, test_loader)\n",
        "\n",
        "print(\"MLP Accuracy:\", mlp_accuracy)\n",
        "print(\"MLP Precision:\", mlp_precision)\n",
        "print(\"MLP Recall:\", mlp_recall)\n",
        "print(\"MLP Confusion Matrix:\")\n",
        "print(mlp_conf_matrix)\n"
      ]
    },
    {
      "cell_type": "markdown",
      "metadata": {
        "id": "zeK6u_X-Mvix"
      },
      "source": []
    },
    {
      "cell_type": "code",
      "execution_count": 33,
      "metadata": {
        "colab": {
          "base_uri": "https://localhost:8080/"
        },
        "id": "923LamBBOVET",
        "outputId": "0d2710a6-8544-436f-daaa-33f596eff782"
      },
      "outputs": [
        {
          "name": "stdout",
          "output_type": "stream",
          "text": [
            "Epoch [1/10], Loss: 0.1179\n",
            "Epoch [2/10], Loss: 0.0755\n",
            "Epoch [3/10], Loss: 0.0729\n",
            "Epoch [4/10], Loss: 0.0755\n",
            "Epoch [5/10], Loss: 0.0021\n",
            "Epoch [6/10], Loss: 0.0071\n",
            "Epoch [7/10], Loss: 0.0188\n",
            "Epoch [8/10], Loss: 0.0019\n",
            "Epoch [9/10], Loss: 0.0039\n",
            "Epoch [10/10], Loss: 0.0189\n"
          ]
        }
      ],
      "source": [
        "import torch\n",
        "import torch.nn as nn\n",
        "import torch.optim as optim\n",
        "from torchvision import datasets, transforms\n",
        "import numpy as np\n",
        "from sklearn.metrics import accuracy_score, precision_recall_fscore_support, confusion_matrix\n",
        "from torch.utils.tensorboard import SummaryWriter\n",
        "\n",
        "\n",
        "# Define CNN architecture\n",
        "class CNN(nn.Module):\n",
        "    def __init__(self):\n",
        "        super(CNN, self).__init__()\n",
        "        self.conv1 = nn.Conv2d(1, 32, 5, padding=2)  # Ensure input and output size remains the same with padding\n",
        "        self.conv2 = nn.Conv2d(32, 64, 5, padding=2)\n",
        "        self.pool = nn.MaxPool2d(3, 3)    # Reduces the size by half\n",
        "        self.relu = nn.ReLU()\n",
        "        self.fc1 = nn.Linear(64 * 4 * 4, 900)  # Adjusted according to expected output size\n",
        "        self.fc2 = nn.Linear(900, 10)  # For 10 output classes\n",
        "\n",
        "    def forward(self, x):\n",
        "        x = self.pool(self.relu(self.conv1(x)))\n",
        "        x = self.pool(self.relu(self.conv2(x)))\n",
        "        x = x.view(-1, 64 * 4 * 4)  # Flatten the tensor for the fully connected layer\n",
        "        x = self.relu(self.fc1(x))\n",
        "        x = self.fc2(x)\n",
        "        return x\n",
        "\n",
        "# Load USPS dataset\n",
        "transform = transforms.Compose([\n",
        "    transforms.ToTensor(),\n",
        "    transforms.Normalize((0.5,), (0.5,))\n",
        "])\n",
        "\n",
        "train_dataset = datasets.USPS(root='./data', train=True, transform=transform, download=True)\n",
        "test_dataset = datasets.USPS(root='./data', train=False, transform=transform, download=True)\n",
        "\n",
        "train_loader = torch.utils.data.DataLoader(train_dataset, batch_size=64, shuffle=True)\n",
        "test_loader = torch.utils.data.DataLoader(test_dataset, batch_size=64, shuffle=False)\n",
        "\n",
        "# Instantiate the CNN model\n",
        "cnn_model = CNN()\n",
        "\n",
        "# Define loss function and optimizer\n",
        "criterion = nn.CrossEntropyLoss()\n",
        "optimizer = optim.Adam(cnn_model.parameters(), lr=0.001)\n",
        "\n",
        "# Train the CNN model\n",
        "num_epochs = 50\n",
        "for epoch in range(num_epochs):\n",
        "    for images, labels in train_loader:\n",
        "        optimizer.zero_grad()\n",
        "        outputs = cnn_model(images)\n",
        "        loss = criterion(outputs, labels)\n",
        "        loss.backward()\n",
        "        optimizer.step()\n",
        "    print(f'Epoch [{epoch+1}/{num_epochs}], Loss: {loss.item():.4f}')\n"
      ]
    },
    {
      "cell_type": "code",
      "execution_count": 34,
      "metadata": {
        "id": "G6-JPIZcWbGG"
      },
      "outputs": [],
      "source": [
        "writer = SummaryWriter('runs/usps_experiment')\n"
      ]
    },
    {
      "cell_type": "code",
      "execution_count": 35,
      "metadata": {
        "colab": {
          "base_uri": "https://localhost:8080/"
        },
        "id": "jYOG5eKKWpNI",
        "outputId": "b6e22e80-60ac-41be-a211-9214a048fd1c"
      },
      "outputs": [
        {
          "name": "stdout",
          "output_type": "stream",
          "text": [
            "Epoch [1/10], Loss: 0.0120\n",
            "Epoch [2/10], Loss: 0.0153\n",
            "Epoch [3/10], Loss: 0.0096\n",
            "Epoch [4/10], Loss: 0.0086\n",
            "Epoch [5/10], Loss: 0.0160\n",
            "Epoch [6/10], Loss: 0.0121\n",
            "Epoch [7/10], Loss: 0.0039\n",
            "Epoch [8/10], Loss: 0.0023\n",
            "Epoch [9/10], Loss: 0.0015\n",
            "Epoch [10/10], Loss: 0.0012\n"
          ]
        }
      ],
      "source": [
        "for epoch in range(num_epochs):\n",
        "    running_loss = 0.0\n",
        "    for images, labels in train_loader:\n",
        "        optimizer.zero_grad()\n",
        "        outputs = cnn_model(images)\n",
        "        loss = criterion(outputs, labels)\n",
        "        loss.backward()\n",
        "        optimizer.step()\n",
        "        running_loss += loss.item()\n",
        "\n",
        "    epoch_loss = running_loss / len(train_loader)\n",
        "    print(f'Epoch [{epoch+1}/{num_epochs}], Loss: {epoch_loss:.4f}')\n",
        "    writer.add_scalar('Training Loss', epoch_loss, epoch)\n"
      ]
    },
    {
      "cell_type": "code",
      "execution_count": 36,
      "metadata": {
        "colab": {
          "base_uri": "https://localhost:8080/"
        },
        "id": "bkILhbx5WqIW",
        "outputId": "0c15c19c-c509-4b98-93fb-3229ebe89c05"
      },
      "outputs": [
        {
          "name": "stdout",
          "output_type": "stream",
          "text": [
            "Test Accuracy: 0.9696, Precision: 0.9685, Recall: 0.9659\n",
            "Test Confusion Matrix:\n",
            "[[358   0   0   0   0   0   0   1   0   0]\n",
            " [  0 260   0   0   3   0   1   0   0   0]\n",
            " [  2   1 189   0   2   1   0   1   2   0]\n",
            " [  0   0   1 160   0   5   0   0   0   0]\n",
            " [  0   2   1   0 190   1   1   1   0   4]\n",
            " [  2   0   0   3   0 153   0   0   1   1]\n",
            " [  0   1   0   0   4   0 165   0   0   0]\n",
            " [  0   1   1   1   4   0   0 140   0   0]\n",
            " [  4   0   1   1   0   1   0   0 157   2]\n",
            " [  0   0   0   0   0   1   0   1   1 174]]\n"
          ]
        }
      ],
      "source": [
        "def evaluate_and_log_metrics(model, data_loader, phase='Test'):\n",
        "    model.eval()\n",
        "    all_preds = []\n",
        "    all_labels = []\n",
        "    with torch.no_grad():\n",
        "        for images, labels in data_loader:\n",
        "            outputs = model(images)\n",
        "            _, predicted = torch.max(outputs, 1)\n",
        "            all_preds.extend(predicted.cpu().numpy())\n",
        "            all_labels.extend(labels.cpu().numpy())\n",
        "\n",
        "    accuracy = accuracy_score(all_labels, all_preds)\n",
        "    precision, recall, _, _ = precision_recall_fscore_support(all_labels, all_preds, average='macro')\n",
        "    conf_matrix = confusion_matrix(all_labels, all_preds)\n",
        "    print(f'{phase} Accuracy: {accuracy:.4f}, Precision: {precision:.4f}, Recall: {recall:.4f}')\n",
        "    print(f'{phase} Confusion Matrix:\\n{conf_matrix}')\n",
        "\n",
        "    # Log to TensorBoard\n",
        "    writer.add_scalar(f'{phase} Accuracy', accuracy)\n",
        "    writer.add_scalar(f'{phase} Precision', precision)\n",
        "    writer.add_scalar(f'{phase} Recall', recall)\n",
        "    # For confusion matrix, you might want to log it as an image or use a custom function\n",
        "\n",
        "evaluate_and_log_metrics(cnn_model, test_loader)\n"
      ]
    },
    {
      "cell_type": "code",
      "execution_count": 37,
      "metadata": {
        "id": "DsVb4jlxWt0G"
      },
      "outputs": [],
      "source": [
        "# This function assumes binary classification or one-vs-all for multiclass classification.\n",
        "# Adjust accordingly for your specific use case.\n",
        "def log_precision_recall_curve(model, data_loader):\n",
        "    model.eval()\n",
        "    all_labels = []\n",
        "    all_probs = []\n",
        "    with torch.no_grad():\n",
        "        for images, labels in data_loader:\n",
        "            outputs = model(images)\n",
        "            probs = torch.softmax(outputs, dim=1)\n",
        "            all_probs.extend(probs.cpu().numpy())\n",
        "            all_labels.extend(labels.cpu().numpy())\n",
        "\n",
        "    for i in range(10):  # Assuming 10 classes\n",
        "        labels_i = (np.array(all_labels) == i).astype(int)\n",
        "        probs_i = np.array([prob[i] for prob in all_probs])\n",
        "        writer.add_pr_curve(f'PR Curve Class {i}', labels_i, probs_i)\n",
        "\n",
        "log_precision_recall_curve(cnn_model, test_loader)\n"
      ]
    },
    {
      "cell_type": "code",
      "execution_count": 38,
      "metadata": {
        "id": "C2W1ZYpyWy_h"
      },
      "outputs": [],
      "source": [
        "writer.close()\n"
      ]
    }
  ],
  "metadata": {
    "accelerator": "GPU",
    "colab": {
      "gpuType": "T4",
      "provenance": []
    },
    "kernelspec": {
      "display_name": "Python 3",
      "name": "python3"
    },
    "language_info": {
      "name": "python"
    }
  },
  "nbformat": 4,
  "nbformat_minor": 0
}
